{
 "cells": [
  {
   "cell_type": "markdown",
   "id": "39bd2b6a",
   "metadata": {},
   "source": [
    "### API Gateway instructions with code example\n",
    "* This notebook shows how to write cdk code in python for API Gateway with request body template mapping"
   ]
  },
  {
   "cell_type": "raw",
   "id": "79cfb63d",
   "metadata": {},
   "source": [
    "from aws_cdk import aws_apigateway as apig,\n",
    "from aws_cdk import core,\n",
    "from aws_cdk.aws_lambda import Function\n",
    "from aws_cdk.core import CfnOutput\n",
    "\n",
    "\n",
    "class APIStack(core.Stack):\n",
    "    def __init__Iself, scope: core.Construct, construct_id: str, lambda_func: Function, **kwargs) -> None:\n",
    "        super().__init__(scope, construct_id, **kwargs)\n",
    "        api = apig.RestApi(self, \"myapi\")\n",
    "        api_integ = apig.LambdaIntegration(lambda_func, proxy=False,\n",
    "                                          request_template=(\"application/json\": \"$input.body\"),\n",
    "                                          passthrough_behavior=apig.PassthroughBehavior.NEVER,\n",
    "                                           integration_response=\n",
    "                                           [\n",
    "                                               apig.IntegrationResponse(status_code='200',\n",
    "                                                                response_templates={\n",
    "                                                                    \"application/json\":\"$input.body\"\n",
    "                                                                }),\n",
    "                                               apig.IntegrationResponse(status_code='400',\n",
    "                                                                        selection_pattern=\"\"\"\n",
    "                                                                        (|.+)\n",
    "                                                                        \"\"\"\n",
    "                                                                response_templates={\n",
    "                                                                    \"application/json\":\"there was an error\"\n",
    "                                                                },\n",
    "                                                                       response_parameter={})   \n",
    "                                                                \n",
    "                                                                ]\n",
    "                                          )\n",
    "        api.root.add_method(\"POST\",\n",
    "                           api_integ,\n",
    "                           method_response=[apig.MethodResponse(status_code='200'),\n",
    "                                           apig.MethodResponse(status_code='400')]\n",
    "                           )\n",
    "                    \n",
    "CfnOutput(self, \"myapiurl\",\n",
    "         value=f\"https//{api.rest_api_id}.execute-api.{self.region}.amazonaws.com/myapi\")\n",
    "\n",
    "    "
   ]
  },
  {
   "cell_type": "code",
   "execution_count": null,
   "id": "b5acf87f",
   "metadata": {},
   "outputs": [],
   "source": []
  }
 ],
 "metadata": {
  "kernelspec": {
   "display_name": "Python 3 (ipykernel)",
   "language": "python",
   "name": "python3"
  },
  "language_info": {
   "codemirror_mode": {
    "name": "ipython",
    "version": 3
   },
   "file_extension": ".py",
   "mimetype": "text/x-python",
   "name": "python",
   "nbconvert_exporter": "python",
   "pygments_lexer": "ipython3",
   "version": "3.8.10"
  }
 },
 "nbformat": 4,
 "nbformat_minor": 5
}
