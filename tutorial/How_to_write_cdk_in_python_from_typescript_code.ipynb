{
 "cells": [
  {
   "cell_type": "markdown",
   "id": "d955599f",
   "metadata": {},
   "source": [
    "### How to write cdk code in python from typescript code\n",
    "this notebook is based on a [youtube video](https://www.youtube.com/watch?v=pUAgg0TzSHw)\n",
    "Amazon API reference document for cdk is [here](https://docs.aws.amazon.com/cdk/api/v1/docs/aws-construct-library.html)\n",
    "* most aws cdk example code is in TypeScript. How can we write python code from these examples\n",
    "* first, find the function to deploy a resources used by TypeScript\n",
    "* then find the corresponding function in python\n",
    "* look at python documentation for that method and arguments\n",
    "* the scope of python is usually self (corresponding to \"this\" in TypeScript)\n",
    "* give an id for the resource\n",
    "* The arguments in TypeScript have the corresponding componentes in Python. Just find the details of each components\n",
    "  + from python document\n",
    "  + make sure it is consistent to the definition in TypeScript example\n",
    "  + pay attention to a lot of constants defined by cdk resources, such as dynamodb.Attribute.String etc.\n",
    "    + you can get all these constants from cdk python document by clicking the \"attributes\" link  \n",
    "* some arguments are optional, but is not documented in Python. Reference the TypeScript examples to confirm*"
   ]
  },
  {
   "cell_type": "markdown",
   "id": "ae80ffa7",
   "metadata": {},
   "source": [
    "### Example code\n",
    "```python\n",
    "from aws_cdk import (\n",
    "    aws_dynamodb as _dynamodb,\n",
    "    aws_kinesis as _kinesis,\n",
    "    core)\n",
    "```\n",
    "* dynamodb\n",
    "```python\n",
    "my_table = _dynamodb.Table(self, id = 'my_table', table_name = 'my_table'\n",
    "             , partition_key = _dynamodb.Attribute(name='lastname', type=_dynamodb.AttributeType.STRING))\n",
    "```\n",
    "* Aws Lambda-backed APIs with lambda function\n",
    "```python\n",
    "# you must have a folder under cdk root directory called 'lambdacode' that contains\n",
    "# a file called hello.py, which has the function called handler\n",
    "my_lambda = _lambda.Function(self, id = 'lambdafunction', runtime=_lambda.Runtime.PYTHON_3_7,\n",
    "                             handler = 'hello.handler',\n",
    "                             code =_lambda.Code.asset('lambdacode')\n",
    "my_api = _apigateway.LambdaRestApi(self, id='lambdaapi', rest_api_name='cdkapi', handler=my_lambda)\n",
    "```                             "
   ]
  },
  {
   "cell_type": "code",
   "execution_count": null,
   "id": "627c91fd",
   "metadata": {},
   "outputs": [],
   "source": [
    "## code example from https://github.com/saha-rajdeep/Python-CDK/blob/master/hello_stack.py\n",
    "from aws_cdk import (\n",
    "    aws_dynamodb as _dynamodb,\n",
    "    aws_kinesis as _kinesis,\n",
    "    aws_s3 as _s3,\n",
    "    aws_lambda as _lambda,\n",
    "    aws_apigateway as _apigateway,\n",
    "    core\n",
    ")\n",
    "\n",
    "\n",
    "class MyStack(core.Stack):\n",
    "\n",
    "    def __init__(self, scope: core.Construct, id: str, **kwargs) -> None:\n",
    "        super().__init__(scope, id, **kwargs)\n",
    "        \n",
    "        my_table= _dynamodb.Table(self,id='dynamoTable',table_name='testcdktable'\n",
    "                                  ,partition_key=_dynamodb.Attribute(name='lastname',type=_dynamodb.AttributeType.STRING))    \n",
    "                                  \n",
    "        my_stream= _kinesis.Stream(self,id='kinesistream',stream_name='cdkkinesisstream')\n",
    "        \n",
    "        my_bucket= _s3.Bucket(self,id='s3bucket',bucket_name='rajcdkbucket')\n",
    "        \n",
    "        my_lambda= _lambda.Function(self,id='lambdafunction',runtime=_lambda.Runtime.PYTHON_3_7,\n",
    "                    handler='hello.handler', \n",
    "                    code= _lambda.Code.asset('lambdacode')) \n",
    "                    \n",
    "        my_api = _apigateway.LambdaRestApi(self,id='lambdaapi',rest_api_name='cdkapi',handler=my_lambda)\n",
    "        \n",
    "        api_with_method = _apigateway.RestApi(self,id='restapi',rest_api_name='cdkrestapi_music')\n",
    "        #music = api_with_method.root.addResource('music')\n",
    "        #music.addMethod('GET')\n",
    "        music = api_with_method.root.add_resource('music')\n",
    "        music.add_method('GET') \n",
    "        music.add_method(\"DELETE\", _apigateway.HttpIntegration(\"http://aws.amazon.com\"))"
   ]
  },
  {
   "cell_type": "markdown",
   "id": "e4df0fc8",
   "metadata": {},
   "source": [
    "#### For details fo specific AWS technique, please refer to the specific notebook in this repo"
   ]
  }
 ],
 "metadata": {
  "kernelspec": {
   "display_name": "Python 3 (ipykernel)",
   "language": "python",
   "name": "python3"
  },
  "language_info": {
   "codemirror_mode": {
    "name": "ipython",
    "version": 3
   },
   "file_extension": ".py",
   "mimetype": "text/x-python",
   "name": "python",
   "nbconvert_exporter": "python",
   "pygments_lexer": "ipython3",
   "version": "3.8.10"
  }
 },
 "nbformat": 4,
 "nbformat_minor": 5
}
